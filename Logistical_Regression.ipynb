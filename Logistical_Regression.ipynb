{
 "cells": [
  {
   "cell_type": "code",
   "execution_count": null,
   "metadata": {},
   "outputs": [],
   "source": [
    "#model performs logistical regression with three normalised factors, max_temp, min_temp and mean_light\n",
    "#model2 performs logistical regression with two normalised factors: mean_temp and mean_light\n",
    "#model3 performs logistical regression with two scaled factors: mean_temp and mean_light"
   ]
  },
  {
   "cell_type": "code",
   "execution_count": 22,
   "metadata": {},
   "outputs": [],
   "source": [
    "# Import Libraries\n",
    "from sklearn import preprocessing\n",
    "from sklearn.preprocessing import StandardScaler\n",
    "from sklearn.linear_model import LogisticRegression\n",
    "from sklearn.metrics import accuracy_score, confusion_matrix, precision_score, recall_score\n",
    "import numpy as np\n",
    "import warnings\n",
    "import pandas as pd\n",
    "from sklearn.metrics import confusion_matrix, accuracy_score\n",
    "\n",
    "# Surpress warnings\n",
    "warnings.filterwarnings(\"ignore\")\n"
   ]
  },
  {
   "cell_type": "code",
   "execution_count": 3,
   "metadata": {},
   "outputs": [
    {
     "name": "stdout",
     "output_type": "stream",
     "text": [
      "max temp = [[0.43761468]\n",
      " [0.38971656]\n",
      " [0.41366562]\n",
      " [0.43761468]\n",
      " [0.35052718]\n",
      " [0.41366562]]\n",
      "min temp = [[0.42886555]\n",
      " [0.38668205]\n",
      " [0.41246086]\n",
      " [0.44058319]\n",
      " [0.33512444]\n",
      " [0.43589613]]\n",
      "mean light = [[0.35947922]\n",
      " [0.41738858]\n",
      " [0.43779473]\n",
      " [0.41904313]\n",
      " [0.41948434]\n",
      " [0.39157755]]\n",
      "outcomes =  [0 0 1 1 0 0]\n"
     ]
    }
   ],
   "source": [
    "#Preprocessing\n",
    "#generate fake input data for testing\n",
    "max_temp_raw = [20.1, 17.9, 19, 20.1, 16.1, 19.0]\n",
    "min_temp_raw = [18.3,16.5,17.6,18.8,14.3,18.6]\n",
    "mean_light_raw = [3259,3784,3969,3799,3803,3550]\n",
    "\n",
    "normalised_max_temp = preprocessing.normalize([max_temp_raw])\n",
    "normalised_min_temp = preprocessing.normalize([min_temp_raw])\n",
    "normalised_mean_light = preprocessing.normalize([mean_light_raw])\n",
    "#input data and reshape onto -1 to +1\n",
    "max_temp = np.array(normalised_max_temp).reshape(-1, 1)\n",
    "min_temp = np.array(normalised_min_temp).reshape(-1, 1)\n",
    "mean_light = np.array(normalised_mean_light).reshape(-1, 1)\n",
    "\n",
    "Y = np.array([0, 0, 1, 1, 0, 0]) #outcomes, 0=poor sleep, 1= good sleep\n",
    "\n",
    "#normalise data\n",
    "\n",
    "print('max temp =', max_temp)\n",
    "print('min temp =', min_temp)\n",
    "print('mean light =', mean_light)\n",
    "print('outcomes = ', Y)"
   ]
  },
  {
   "cell_type": "code",
   "execution_count": 10,
   "metadata": {},
   "outputs": [
    {
     "name": "stdout",
     "output_type": "stream",
     "text": [
      "[[0.43761468 0.42886555 0.35947922]\n",
      " [0.38971656 0.38668205 0.41738858]\n",
      " [0.41366562 0.41246086 0.43779473]\n",
      " [0.43761468 0.44058319 0.41904313]\n",
      " [0.35052718 0.33512444 0.41948434]\n",
      " [0.41366562 0.43589613 0.39157755]]\n",
      "Coefficients: [[-0.09873949 -0.09567204 -0.09420868]]\n",
      "Intercept: [-0.33401908]\n"
     ]
    }
   ],
   "source": [
    "\n",
    "# Combine factors into feature matrix\n",
    "X = np.concatenate((max_temp,min_temp,mean_light), axis=1)\n",
    "\n",
    "# Create and fit the logistic regression model\n",
    "model = LogisticRegression(solver='liblinear')\n",
    "model.fit(X, Y)\n",
    "\n",
    "# Print the coefficients and intercept\n",
    "print(X)\n",
    "print(\"Coefficients:\", model.coef_)\n",
    "print(\"Intercept:\", model.intercept_)"
   ]
  },
  {
   "cell_type": "code",
   "execution_count": 9,
   "metadata": {},
   "outputs": [
    {
     "name": "stdout",
     "output_type": "stream",
     "text": [
      "[0 0 0 0 0 0]\n",
      "LogisticRegression(solver='liblinear')\n",
      "0.6666666666666666\n"
     ]
    }
   ],
   "source": [
    "#Testing accuracy\n",
    "prediction = model.predict(X)\n",
    "accuracy = accuracy_score(Y, prediction)\n",
    "print(prediction)\n",
    "print(model)\n",
    "print(accuracy)\n"
   ]
  },
  {
   "cell_type": "code",
   "execution_count": 39,
   "metadata": {},
   "outputs": [
    {
     "name": "stdout",
     "output_type": "stream",
     "text": [
      "[[0.43219902]\n",
      " [0.39727157]\n",
      " [0.42138277]\n",
      " [0.43310037]\n",
      " [0.33282479]\n",
      " [0.42363616]]\n"
     ]
    }
   ],
   "source": [
    "#rerunning with means\n",
    "mean_temp_raw = [19.18,17.63,18.70,19.22,14.77,18.80]\n",
    "normalised_mean_temp = preprocessing.normalize([mean_temp_raw])\n",
    "mean_temp = np.array(normalised_mean_temp).reshape(-1, 1)\n",
    "\n",
    "print(mean_temp)\n"
   ]
  },
  {
   "cell_type": "code",
   "execution_count": 34,
   "metadata": {},
   "outputs": [
    {
     "name": "stdout",
     "output_type": "stream",
     "text": [
      "[[0.43219902 0.35947922]\n",
      " [0.39727157 0.41738858]\n",
      " [0.42138277 0.43779473]\n",
      " [0.43310037 0.41904313]\n",
      " [0.33282479 0.41948434]\n",
      " [0.42363616 0.39157755]]\n",
      "Coefficients: [[-0.10283099 -0.10228296]]\n",
      "Intercept: [-0.35400767]\n"
     ]
    }
   ],
   "source": [
    "# Combine factors (just means) into feature matrix\n",
    "X2 = np.concatenate((mean_temp, mean_light), axis=1)\n",
    "model2 = LogisticRegression(solver='liblinear')\n",
    "model2.fit(X2, Y)\n",
    "\n",
    "print(X2)\n",
    "print(\"Coefficients:\", model2.coef_)\n",
    "print(\"Intercept:\", model2.intercept_)"
   ]
  },
  {
   "cell_type": "code",
   "execution_count": 45,
   "metadata": {},
   "outputs": [
    {
     "name": "stdout",
     "output_type": "stream",
     "text": [
      "[19.18, 17.63, 18.7, 19.22, 14.77, 18.8]\n",
      "[3259, 3784, 3969, 3799, 3803, 3550]\n",
      "[[  19.18 3259.  ]\n",
      " [  17.63 3784.  ]\n",
      " [  18.7  3969.  ]\n",
      " [  19.22 3799.  ]\n",
      " [  14.77 3803.  ]\n",
      " [  18.8  3550.  ]]\n",
      "[[ 0.72525358 -1.89371629]\n",
      " [-0.26956328  0.39180337]\n",
      " [ 0.41718126  1.19717696]\n",
      " [ 0.75092627  0.45710393]\n",
      " [-2.10516082  0.47451741]\n",
      " [ 0.48136299 -0.62688539]]\n"
     ]
    }
   ],
   "source": [
    "#trying with scaling\n",
    "scaler = StandardScaler()\n",
    "mean_temp2 = np.array(mean_temp_raw).reshape(-1, 1)\n",
    "mean_light2 = np.array(mean_light_raw).reshape(-1, 1)\n",
    "X3 = np.concatenate((mean_temp2, mean_light2), axis=1)\n",
    "X3_scaled = scaler.fit_transform(X3)\n",
    "##mean_temp_scaled = \n",
    "\n",
    "\n",
    "#model2 = LogisticRegression(solver='liblinear')\n",
    "print (mean_temp_raw)\n",
    "print (mean_light_raw)\n",
    "print (X3)\n",
    "\n",
    "print(X3_scaled)"
   ]
  },
  {
   "cell_type": "code",
   "execution_count": 48,
   "metadata": {},
   "outputs": [
    {
     "name": "stdout",
     "output_type": "stream",
     "text": [
      "Coefficients: [[0.65400514 0.83278594]]\n",
      "Intercept: [-0.44215077]\n"
     ]
    }
   ],
   "source": [
    "#new logistical regression model just scaling raw data\n",
    "model3 = LogisticRegression(solver='liblinear')\n",
    "model3.fit(X3_scaled, Y)\n",
    "\n",
    "print(\"Coefficients:\", model3.coef_)\n",
    "print(\"Intercept:\", model3.intercept_)"
   ]
  }
 ],
 "metadata": {
  "kernelspec": {
   "display_name": "Python 3",
   "language": "python",
   "name": "python3"
  },
  "language_info": {
   "codemirror_mode": {
    "name": "ipython",
    "version": 3
   },
   "file_extension": ".py",
   "mimetype": "text/x-python",
   "name": "python",
   "nbconvert_exporter": "python",
   "pygments_lexer": "ipython3",
   "version": "3.9.0"
  }
 },
 "nbformat": 4,
 "nbformat_minor": 2
}
